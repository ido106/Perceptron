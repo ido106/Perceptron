{
  "nbformat": 4,
  "nbformat_minor": 0,
  "metadata": {
    "colab": {
      "provenance": [],
      "collapsed_sections": [
        "j74_axPhxSUf",
        "MIdCxGP3nszs",
        "WL9HyYBIgUVf",
        "pdvuYi56ssS9"
      ]
    },
    "kernelspec": {
      "name": "python3",
      "display_name": "Python 3"
    },
    "accelerator": "GPU",
    "gpuClass": "standard"
  },
  "cells": [
    {
      "cell_type": "markdown",
      "metadata": {
        "id": "mj5Gc4rTncj6"
      },
      "source": [
        "<h1><center><b>Machine Learning</></center></h1>\n",
        "<h3><center>Exercise 3 - Perceptron</center></h3>"
      ]
    },
    {
      "cell_type": "markdown",
      "metadata": {
        "id": "oATLsvZp6K5q"
      },
      "source": [
        "\n",
        "<font color='red'>\n",
        "Ido Aharon\n",
        "</font>\n"
      ]
    },
    {
      "cell_type": "markdown",
      "metadata": {
        "id": "Srs9mnmgrSIW"
      },
      "source": [
        "____________"
      ]
    },
    {
      "cell_type": "markdown",
      "metadata": {
        "id": "RakOdZ9Mm5Q8"
      },
      "source": [
        "In this exercise we will learn to:\n",
        "1. Load, prepare and visualize datasets.\n",
        "2. Implement Perceptron and train it.\n",
        "3. Implement regularization."
      ]
    },
    {
      "cell_type": "markdown",
      "metadata": {
        "id": "4Lmcx4cf7x9o"
      },
      "source": [
        "**Instructions:**\n",
        "- Download the notebook with **\"File\"** -> **\"Download .ipynb\"**\n",
        "- Drag the notebook to your Google Drive\n",
        "- Place the dataset in the same folder (dataset.csv)"
      ]
    },
    {
      "cell_type": "markdown",
      "metadata": {
        "id": "j74_axPhxSUf"
      },
      "source": [
        "### **1. Introduction to Colab and Numpy**"
      ]
    },
    {
      "cell_type": "markdown",
      "metadata": {
        "id": "aVvttB5zp7JR"
      },
      "source": [
        "We use the Python programming language for all assignments in this course with the help of popular packages (like [numpy](https://numpy.org/), [matplotlib](https://matplotlib.org/), [sklearn](https://scikit-learn.org/stable/), [scipy](https://scipy.org/) and [pytorch](https://pytorch.org/))."
      ]
    },
    {
      "cell_type": "markdown",
      "metadata": {
        "id": "WfngYcGBxVe_"
      },
      "source": [
        "Go over this **[numpy tutorial](https://cs231n.github.io/python-numpy-tutorial/)** before starting this assignment and **[this notebook](https://colab.research.google.com/github/cs231n/cs231n.github.io/blob/master/python-colab.ipynb)** to understand how to work with basic packages and with Google Colab. It is important to go over them before starting this assignment."
      ]
    },
    {
      "cell_type": "markdown",
      "metadata": {
        "id": "I_MQ33uls2lu"
      },
      "source": [
        "### **2. Setup**\n",
        "Before running code on Colab:\n",
        "- Check your Python version at the command line by running \"!python --version\". It should be Python 3.6 by default.\n",
        "- Upload all files of this assignment (code and datasets) to your Drive (e.g \"machine_learning_intro/assignments/assignment1\") and mount that data to the machine. See the next cells below.  \n",
        "In principle, it is also possible to upload files to the local disk of the colab machines, but such files will be deleted when the machine is restarted (not an often event)."
      ]
    },
    {
      "cell_type": "code",
      "metadata": {
        "id": "GIYZ8411uSg_",
        "colab": {
          "base_uri": "https://localhost:8080/"
        },
        "outputId": "1105c644-36a9-4140-e296-480890a4c33b"
      },
      "source": [
        "# check python version\n",
        "!python --version"
      ],
      "execution_count": null,
      "outputs": [
        {
          "output_type": "stream",
          "name": "stdout",
          "text": [
            "Python 3.8.15\n"
          ]
        }
      ]
    },
    {
      "cell_type": "code",
      "metadata": {
        "id": "TS82AoVQwt7z",
        "colab": {
          "base_uri": "https://localhost:8080/"
        },
        "outputId": "8e6942ce-6249-45d5-ca9c-247f775c330a"
      },
      "source": [
        "from google.colab import drive\n",
        "\n",
        "drive.mount('/content/drive', force_remount=True)\n",
        "\n",
        "# Enter the foldername in your Drive where you have saved the code and datasets.\n",
        "# Recommended path: 'machine_learning_intro/assignments/assignment1/'\n",
        "FOLDERNAME = 'ML/'\n",
        "ASSIGNMENTNAME = 'Ex3'\n",
        "\n",
        "%cd drive/My\\ Drive\n",
        "%cp -r $FOLDERNAME/$ASSIGNMENTNAME ../../\n",
        "%cd ../../"
      ],
      "execution_count": null,
      "outputs": [
        {
          "output_type": "stream",
          "name": "stdout",
          "text": [
            "Mounted at /content/drive\n",
            "/content/drive/My Drive\n",
            "/content\n"
          ]
        }
      ]
    },
    {
      "cell_type": "markdown",
      "metadata": {
        "id": "MIdCxGP3nszs"
      },
      "source": [
        "### **3. Dataset & Preprocessing**"
      ]
    },
    {
      "cell_type": "markdown",
      "metadata": {
        "id": "U5z2WEwqrtV5"
      },
      "source": [
        "In this section, we are going to load a 2-dimensional  data and preprocess it using the \"numpy\" package.  "
      ]
    },
    {
      "cell_type": "code",
      "metadata": {
        "id": "IRIDf5EnmWq3"
      },
      "source": [
        "# Load numpy package\n",
        "import numpy as np"
      ],
      "execution_count": null,
      "outputs": []
    },
    {
      "cell_type": "markdown",
      "metadata": {
        "id": "Sn_mf98fsj5p"
      },
      "source": [
        "Load the pre-generated data provided to you. Using numpy, load the file \"dataset.csv\" and print its shape. You should see that the data is a numpy array (a matrix) with 500 rows (called **data samples**) and 3 columns. The first two columns are the **features** of the samples and the last column is the **label** of each sample."
      ]
    },
    {
      "cell_type": "code",
      "metadata": {
        "id": "GHS0SG4ZvObo",
        "colab": {
          "base_uri": "https://localhost:8080/"
        },
        "outputId": "514ccf1f-1477-430b-9096-f834525ad39b"
      },
      "source": [
        "# load data using \"np.genfromtxt\"\n",
        "data = np.genfromtxt(f\"{ASSIGNMENTNAME}/dataset.csv\", delimiter=',',dtype=np.float64)\n",
        "# print 5 rows from the data\n",
        "print(data[:5])\n",
        "# print its shape\n",
        "print(\"Data shape:\", data.shape)"
      ],
      "execution_count": null,
      "outputs": [
        {
          "output_type": "stream",
          "name": "stdout",
          "text": [
            "[[ 1.75111789 -1.25722467 -1.        ]\n",
            " [ 2.47513131  1.7817015   1.        ]\n",
            " [ 0.89051961 -1.60740181 -1.        ]\n",
            " [ 1.71910455 -1.91091876 -1.        ]\n",
            " [ 0.99335187  1.00259882  1.        ]]\n",
            "Data shape: (500, 3)\n"
          ]
        }
      ]
    },
    {
      "cell_type": "markdown",
      "metadata": {
        "id": "3tk26PWsxmHR"
      },
      "source": [
        "Split the data into features and labels and print their shape. Be careful not to change the content of the data."
      ]
    },
    {
      "cell_type": "code",
      "metadata": {
        "id": "PxcZJkImxdPF",
        "colab": {
          "base_uri": "https://localhost:8080/"
        },
        "outputId": "b0b94f0c-0706-42cf-8fb7-8d57495158d2"
      },
      "source": [
        "# split the data to features and labels\n",
        "features = data[:,0:2]\n",
        "labels = data[:,2]\n",
        "# print their shape\n",
        "print(\"Features Shape:\", features.shape)\n",
        "print(\"Labels Shape:\", labels.shape)"
      ],
      "execution_count": null,
      "outputs": [
        {
          "output_type": "stream",
          "name": "stdout",
          "text": [
            "Features Shape: (500, 2)\n",
            "Labels Shape: (500,)\n"
          ]
        }
      ]
    },
    {
      "cell_type": "markdown",
      "metadata": {
        "id": "LFvNfVjjv1UJ"
      },
      "source": [
        "Count how many samples are from class **-1**, and how many to class **+1**. Use the variable ```labels```  from the previous cell."
      ]
    },
    {
      "cell_type": "code",
      "metadata": {
        "id": "vbwC_fKgv0rv",
        "colab": {
          "base_uri": "https://localhost:8080/"
        },
        "outputId": "4f8a68c3-46c5-4ed5-cd9d-8bbdb5e3ce37"
      },
      "source": [
        "class_pos_idx = np.where(labels == 1)[0]\n",
        "class_neg_idx = np.where(labels == -1)[0]\n",
        "print(\"Num samples for class -1:\",len(class_neg_idx))\n",
        "print(\"Num samples for class +1:\",len(class_pos_idx))"
      ],
      "execution_count": null,
      "outputs": [
        {
          "output_type": "stream",
          "name": "stdout",
          "text": [
            "Num samples for class -1: 254\n",
            "Num samples for class +1: 246\n"
          ]
        }
      ]
    },
    {
      "cell_type": "markdown",
      "metadata": {
        "id": "oZdpjSnbfAZw"
      },
      "source": [
        "We can now split the data into train and test. The train would be 80% of the total #samples. The rest will go for test-set. We can use ```train_test_split``` function from sklearn."
      ]
    },
    {
      "cell_type": "code",
      "metadata": {
        "id": "xZxBVSSJf-7A"
      },
      "source": [
        "from sklearn.model_selection import train_test_split\n",
        "X_train, X_test, y_train, y_test = train_test_split(features, labels, test_size=0.2, random_state=36)"
      ],
      "execution_count": null,
      "outputs": []
    },
    {
      "cell_type": "markdown",
      "metadata": {
        "id": "pSyrs_vvr22N"
      },
      "source": [
        "### **4. Visualizations**"
      ]
    },
    {
      "cell_type": "markdown",
      "metadata": {
        "id": "ngvSNhMzylNw"
      },
      "source": [
        "It is always recommended to plot the data (when possible) and see the decision boundaries of our trained models. Since our data is a 2d vector (two features), we can plot each sample as a point in a 2d space.  \n",
        "Use ```matplotlib``` and plot a **[scatter](https://matplotlib.org/stable/api/_as_gen/matplotlib.pyplot.scatter.html)** plot contains all the points. Make sure that samples of class -1 will be colored \"blue\" while samples of class +1 will be colored \"red\". (Read more about matplotlib [here](https://matplotlib.org/))"
      ]
    },
    {
      "cell_type": "code",
      "metadata": {
        "id": "N0BG2Fa1ZKHn"
      },
      "source": [
        "import matplotlib.pyplot as plt"
      ],
      "execution_count": null,
      "outputs": []
    },
    {
      "cell_type": "code",
      "source": [
        "class_pos_idx = np.where(labels == 1)[0]\n",
        "features[class_neg_idx, -2].shape"
      ],
      "metadata": {
        "id": "Z6NMV4KfZ17m",
        "colab": {
          "base_uri": "https://localhost:8080/"
        },
        "outputId": "cf1cd48e-3070-4a29-9f83-f15d07d284ac"
      },
      "execution_count": null,
      "outputs": [
        {
          "output_type": "execute_result",
          "data": {
            "text/plain": [
              "(254,)"
            ]
          },
          "metadata": {},
          "execution_count": 9
        }
      ]
    },
    {
      "cell_type": "code",
      "metadata": {
        "id": "R5bxaq4VyFgI",
        "colab": {
          "base_uri": "https://localhost:8080/",
          "height": 265
        },
        "outputId": "813c3d37-fe6f-40fb-bc95-3e180cfcf7ae"
      },
      "source": [
        "def plot_data(features, labels):\n",
        "  '''\n",
        "  The function plots the data on a 2d plane. It colors class -1 with the \"blue\" color \n",
        "  and class +1 with the \"red\" color.\n",
        "  '''\n",
        "  scale_x = features[:, 0]\n",
        "  scale_y = features[:, 1]\n",
        "  color = [\"red\" if label == 1 else \"blue\" for label in labels]\n",
        "  plt.scatter(scale_x, scale_y, s = 10, c = color)\n",
        "\n",
        "\n",
        "plot_data(features, labels)"
      ],
      "execution_count": null,
      "outputs": [
        {
          "output_type": "display_data",
          "data": {
            "text/plain": [
              "<Figure size 432x288 with 1 Axes>"
            ],
            "image/png": "[encoded data removed]"
          },
          "metadata": {
            "needs_background": "light"
          }
        }
      ]
    },
    {
      "cell_type": "markdown",
      "metadata": {
        "id": "WL9HyYBIgUVf"
      },
      "source": [
        "### **5. Perceptron**"
      ]
    },
    {
      "cell_type": "markdown",
      "metadata": {
        "id": "I0R2surDghVg"
      },
      "source": [
        "In this section, we  implement a Perceptron model using numpy. The perceptron aims to classify each sample to a class -1 or class +1 (binary classification task)."
      ]
    },
    {
      "cell_type": "markdown",
      "metadata": {
        "id": "5uDFLvCphNwa"
      },
      "source": [
        "**Reminder:** The perceptron model takes an input vector $\\mathbf{x}$. If the weighted sum of the inputs, $\\mathbf{w}^T\\mathbf{x}$ is greater than a threshold $b$ it outputs +1. Otherwise, it outputs a -1:\n",
        "$$\n",
        "    f(x)= \n",
        "\\begin{cases}\n",
        "    +1,& \\text{if } \\mathbf{w}^{T}\\mathbf{x}\\geq b\\\\\n",
        "    -1,              & \\text{otherwise}\n",
        "\\end{cases}$$\n",
        "\n",
        "Remember that: $ \\mathbf{w}^{T}\\mathbf{x} = \\sum_{i=1}^{n}{w_ix_i}$.\n"
      ]
    },
    {
      "cell_type": "markdown",
      "metadata": {
        "id": "hgVJIDbGkirh"
      },
      "source": [
        "![image.png](data:image/png;base64,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)"
      ]
    },
    {
      "cell_type": "markdown",
      "metadata": {
        "id": "84uxCxo0lAqg"
      },
      "source": [
        "The main goal of the learning algorithm is to find  a vector  $\\mathbf{w}$ capable of separating positive samples (y = +1) from negative (y = -1) samples.\n",
        "\n",
        "To do that, we should learn two things: weights $\\mathbf{w}$ and a bias term $b$. \n",
        "\n",
        "Instead of updating the bias separately, we can extend the input vector by appending a value of 1. The corresponding weight takes the role of the bias term. For this reason, we only update here the weight vector $\\mathbf{w}$\n",
        "\n",
        "**Learning $\\mathbf{w}$:** (You have to write this code)\n",
        "\n",
        "Start by initializing $\\mathbf{w}$ randomly.  \n",
        "$$\n",
        " \\mathbf{w}^0 = \\mathrm{a \\, vector \\,\\,of \\,\\,small \\,\\,random \\,\\,values}\n",
        "$$\n",
        "When the model makes a mistake on a sample $\\mathbf{x}_i$, then fix $\\mathbf{w}$ using the update rule:\n",
        "\n",
        "$$\\mathbf{w}^{(t+1)} = \\begin{cases}\n",
        "    \\mathbf{w}^{(t)},& \\text{if   } y_i (\\mathbf{w}^{(t)})^T\\mathbf{x}_i > 0\\\\\n",
        "    \\mathbf{w}^{(t)} + \\eta y_i \\mathbf{x}_i,              & \\text{otherwise}\n",
        "\\end{cases}$$\n",
        "\n",
        "where $\\eta$ is the learning rate. $\\eta$ controls how much the weights change at each update.  "
      ]
    },
    {
      "cell_type": "markdown",
      "metadata": {
        "id": "BZ6DlvL3dsQQ"
      },
      "source": [
        "**Handle the bias term:**\n",
        "We add a column of ones to the train and test features so we won't need to learn the bias. The train and test shapes will be (#samples,3). There are plenty of ways to do it. One way is using ```np.hstack``` function. "
      ]
    },
    {
      "cell_type": "code",
      "metadata": {
        "id": "XenUNHIMeSxN"
      },
      "source": [
        "def add_ones_column(X):\n",
        "  # add a column of ones to the data\n",
        "  ones_col = np.ones((X.shape[0],1))\n",
        "  return np.hstack((ones_col,X))\n",
        "\n",
        "X_train = add_ones_column(X_train)\n",
        "X_test = add_ones_column(X_test)"
      ],
      "execution_count": null,
      "outputs": []
    },
    {
      "cell_type": "markdown",
      "metadata": {
        "id": "J9KPQCIqkZVY"
      },
      "source": [
        "Implement all methods of the Perceptron class below."
      ]
    },
    {
      "cell_type": "code",
      "metadata": {
        "id": "8T859gqngXzo"
      },
      "source": [
        "class Perceptron(object):\n",
        "    def __init__(self, n_features, iterations=10, learning_rate=0.01):\n",
        "        '''\n",
        "        The function initialized the Perceptron model.\n",
        "        n_features - number of features of each sample (excluding the bias)\n",
        "        iterations - number of iterations on the training data\n",
        "        learning_rate - learning rate, how much the weight will change during update\n",
        "        '''\n",
        "        self.iterations = iterations\n",
        "        self.learning_rate = learning_rate\n",
        "        np.random.seed(30) # set random seed, should not be altered!\n",
        "        self.weights = np.random.randn(n_features + 1)\n",
        "           \n",
        "    def predict(self, input):\n",
        "        '''\n",
        "        The function makes a prediction for the given input.\n",
        "        Output: -1 or 1.\n",
        "        '''\n",
        "        return np.sign(np.dot(self.weights, input))\n",
        "\n",
        "    def evaluate(self, inputs, labels):\n",
        "        '''\n",
        "        The function makes a predictions for the given inputs and compares \n",
        "        against the labels (ground truth). It returns the accuracy.\n",
        "        Accuracy = #correct_classification / #total\n",
        "        '''\n",
        "        correct_classification = 0\n",
        "        total = len(labels)\n",
        "        for i in range(total):\n",
        "          current_prediction = self.predict(inputs[i])\n",
        "          if(current_prediction == labels[i]):\n",
        "            correct_classification += 1  \n",
        "        return correct_classification / total\n",
        "\n",
        "    def train(self, training_inputs, train_labels, test_inputs, test_labels, verbose=True):\n",
        "        '''\n",
        "        The function train a perceptron model given training_inputs and train_labels.\n",
        "        It also evaluates the model on the train set and test set after every iteration.\n",
        "        '''\n",
        "        for i in range(self.iterations):\n",
        "            for x, y in zip(training_inputs, train_labels):\n",
        "                if y * self.predict(x) <= 0:\n",
        "                  self.weights += self.learning_rate * y * x\n",
        "            if verbose:\n",
        "              print(f\"Iteration No.{i},\\\n",
        "               Train accuracy: {self.evaluate(training_inputs, train_labels)},\\\n",
        "                Test accuracy: {self.evaluate(test_inputs, test_labels)}\")"
      ],
      "execution_count": null,
      "outputs": []
    },
    {
      "cell_type": "markdown",
      "metadata": {
        "id": "8lXoTe1uphUs"
      },
      "source": [
        "Create a ```Perceptron``` instance and train it on the training data from before. For each iteration, print the train accuracy and test accuracy.  \n",
        "\n",
        "You can set the hyperparamets to:  \n",
        "iterations = 10  \n",
        "learning_rate = 0.01."
      ]
    },
    {
      "cell_type": "code",
      "metadata": {
        "id": "J9UzDmQnp8Bx",
        "colab": {
          "base_uri": "https://localhost:8080/"
        },
        "outputId": "e2b88417-2157-428b-b33b-150fe89da3d3"
      },
      "source": [
        "model = Perceptron(len(X_train[0, :]) - 1, 10, 0.01)\n",
        "model.train(X_train, y_train, X_test, y_test, True)"
      ],
      "execution_count": null,
      "outputs": [
        {
          "output_type": "stream",
          "name": "stdout",
          "text": [
            "Iteration No.0,               Train accuracy: 0.825,                Test accuracy: 0.82\n",
            "Iteration No.1,               Train accuracy: 0.905,                Test accuracy: 0.91\n",
            "Iteration No.2,               Train accuracy: 0.935,                Test accuracy: 0.97\n",
            "Iteration No.3,               Train accuracy: 0.95,                Test accuracy: 0.97\n",
            "Iteration No.4,               Train accuracy: 0.9525,                Test accuracy: 0.98\n",
            "Iteration No.5,               Train accuracy: 0.9625,                Test accuracy: 0.99\n",
            "Iteration No.6,               Train accuracy: 0.9625,                Test accuracy: 0.99\n",
            "Iteration No.7,               Train accuracy: 0.9625,                Test accuracy: 0.99\n",
            "Iteration No.8,               Train accuracy: 0.9625,                Test accuracy: 0.98\n",
            "Iteration No.9,               Train accuracy: 0.9575,                Test accuracy: 0.98\n"
          ]
        }
      ]
    },
    {
      "cell_type": "markdown",
      "metadata": {
        "id": "pdvuYi56ssS9"
      },
      "source": [
        "### **6. Decision Boundary**"
      ]
    },
    {
      "cell_type": "markdown",
      "metadata": {
        "id": "8XDc9ZSv6KUQ"
      },
      "source": [
        "Let's visualize the decision boundary of the trained Perceptron. Use the function below for your plot."
      ]
    },
    {
      "cell_type": "code",
      "metadata": {
        "id": "VMzY3fJ064cG"
      },
      "source": [
        "def plot_decision_boundary(features, linear_model):\n",
        "  '''\n",
        "  Plots the decision boundary for a given linear model\n",
        "  Inputs:\n",
        "  features - numpy array with the data features, its shape should be (100,2)\n",
        "  linear_model - trained model\n",
        "  '''\n",
        "  nb_col = []\n",
        "  for i in range(X_train.shape[-1]):\n",
        "    if not (X_train[:,i].min() == 1 and X_train[:,i].max()==1):\n",
        "      nb_col.append(i)\n",
        "      \n",
        "  x_min, x_max = features[:, nb_col[0]].min() - .5, features[:, nb_col[0]].max() + .5\n",
        "  y_min, y_max = features[:, nb_col[1]].min() - .5, features[:, nb_col[1]].max() + .5\n",
        "  h = .02\n",
        "  xx, yy = np.meshgrid(np.arange(x_min, x_max, h), np.arange(y_min, y_max, h))\n",
        "  inputs = add_ones_column(np.c_[xx.ravel(), yy.ravel()])\n",
        "  if \"sklearn\" in str(type(linear_model)):\n",
        "    Z = linear_model.predict(inputs)\n",
        "  else:\n",
        "    Z = []\n",
        "    for x in inputs:\n",
        "      Z += [linear_model.predict(x)]\n",
        "  Z = np.array(Z).reshape(xx.shape)\n",
        "  plt.contour(xx, yy, Z, colors='k',linestyles=['-'])"
      ],
      "execution_count": null,
      "outputs": []
    },
    {
      "cell_type": "code",
      "metadata": {
        "id": "tk2uE1L2tKC5",
        "colab": {
          "base_uri": "https://localhost:8080/"
        },
        "outputId": "897262bb-c167-42ee-bb08-f8e7e2103ed0"
      },
      "source": [
        "plt.rcParams['figure.figsize'] = 10, 5\n",
        "plt.subplot(1,2,1)\n",
        "# plot the training samples here\n",
        "plot_data(X_train[:, 1:], y_train)\n",
        "# use \"plot_decision_boundary\" above to plot the decision boundary of the Perceptron model\n",
        "plot_decision_boundary(X_train, model)\n",
        "plt.title(\"Train\")\n",
        "\n",
        "plt.subplot(1,2,2)\n",
        "# plot the test samples here\n",
        "plot_data(X_test[:, 1:], y_test)\n",
        "# use \"plot_decision_boundary\" above to plot the decision boundary of the Perceptron model\n",
        "plot_decision_boundary(X_test, model)\n",
        "plt.title(\"Test\")"
      ],
      "execution_count": null,
      "outputs": [
        {
          "output_type": "execute_result",
          "data": {
            "text/plain": [
              "Text(0.5, 1.0, 'Test')"
            ]
          },
          "metadata": {},
          "execution_count": 15
        },
        {
          "output_type": "display_data",
          "data": {
            "text/plain": [
              "<Figure size 720x360 with 2 Axes>"
            ],
            "image/png": "[encoded data removed]"
          },
          "metadata": {
            "needs_background": "light"
          }
        }
      ]
    },
    {
      "cell_type": "markdown",
      "metadata": {
        "id": "o7e8OfO6td4I"
      },
      "source": [
        "**Q**: Can the perceptron model ever reach accuracy = 100% on the **training data**? Explain how if you think it's possible or why if you think it's not."
      ]
    },
    {
      "cell_type": "markdown",
      "metadata": {
        "id": "f3fuAfUkxxi4"
      },
      "source": [
        "**A**: <font color='red'>\n",
        "No, because if we look at the training data we can see that we cannot seperate the blue samples from the red samples with a linear line.\n",
        "</font>\n"
      ]
    },
    {
      "cell_type": "markdown",
      "metadata": {
        "id": "EKh5d4w_3OPw"
      },
      "source": [
        "### **7. The effect of training-set size**"
      ]
    },
    {
      "cell_type": "markdown",
      "metadata": {
        "id": "AgH9OF256XpH"
      },
      "source": [
        "Let's investigate how the size of the training set affects the train and test accuracy.\n",
        "We start by training our perceptron model on only 2 train samples, then on 5, 25, 50, 150, 250 and 400 samples.   \n",
        "We evaluate all models on the test set."
      ]
    },
    {
      "cell_type": "code",
      "metadata": {
        "id": "julZXemt9_ZO",
        "colab": {
          "base_uri": "https://localhost:8080/"
        },
        "outputId": "e1a7d3b0-f3d8-44fa-d29f-2deb1f1961a9"
      },
      "source": [
        "train_samples = [2,5,25,50,150,250,400]\n",
        "\n",
        "train_acc_ls, test_acc_ls = [], []\n",
        "\n",
        "for train_size in train_samples:\n",
        "  # randomly select `train_size` samples\n",
        "  idx = np.random.choice(len(X_train), size=train_size, replace=False)\n",
        "  small_X_train, small_y_train = X_train[idx], y_train[idx]\n",
        "  # create and train a perceptron model\n",
        "  model = Perceptron(n_features=2, iterations=100, learning_rate=0.01)\n",
        "  model.train(small_X_train, small_y_train, X_test, y_test, verbose=False)\n",
        "  # evaluate the model on train and test\n",
        "  curr_train_acc = model.evaluate(small_X_train, small_y_train)\n",
        "  curr_test_acc = model.evaluate(X_test, y_test)\n",
        "  # keep track on it\n",
        "  train_acc_ls += [curr_train_acc]\n",
        "  test_acc_ls += [curr_test_acc]\n",
        "\n",
        "  print(f\"Train size: {train_size}, Train accuracy: {curr_train_acc}, Test accuracy: {curr_test_acc}\")"
      ],
      "execution_count": null,
      "outputs": [
        {
          "output_type": "stream",
          "name": "stdout",
          "text": [
            "Train size: 2, Train accuracy: 1.0, Test accuracy: 0.51\n",
            "Train size: 5, Train accuracy: 1.0, Test accuracy: 0.8\n",
            "Train size: 25, Train accuracy: 1.0, Test accuracy: 0.97\n",
            "Train size: 50, Train accuracy: 1.0, Test accuracy: 0.97\n",
            "Train size: 150, Train accuracy: 0.9666666666666667, Test accuracy: 0.98\n",
            "Train size: 250, Train accuracy: 0.964, Test accuracy: 0.98\n",
            "Train size: 400, Train accuracy: 0.9675, Test accuracy: 0.98\n"
          ]
        }
      ]
    },
    {
      "cell_type": "code",
      "metadata": {
        "id": "eRZZ86dC_25L",
        "colab": {
          "base_uri": "https://localhost:8080/",
          "height": 351
        },
        "outputId": "7be130d5-fbf5-47f4-dbe6-871cc109385f"
      },
      "source": [
        "# plot train and test accuracy as a function of train size\n",
        "train_samples = [\"2\",\"5\",\"25\",\"50\",\"150\",\"250\",\"400\"]\n",
        "plt.plot(train_samples, train_acc_ls)\n",
        "plt.plot(train_samples, test_acc_ls)\n",
        "plt.legend([\"train_acc\",\"test_acc\"])\n",
        "plt.xlabel(\"#Train samples\")\n",
        "plt.ylabel(\"Accuracy\")"
      ],
      "execution_count": null,
      "outputs": [
        {
          "output_type": "execute_result",
          "data": {
            "text/plain": [
              "Text(0, 0.5, 'Accuracy')"
            ]
          },
          "metadata": {},
          "execution_count": 17
        },
        {
          "output_type": "display_data",
          "data": {
            "text/plain": [
              "<Figure size 720x360 with 1 Axes>"
            ],
            "image/png": "[encoded data removed]"
          },
          "metadata": {
            "needs_background": "light"
          }
        }
      ]
    },
    {
      "cell_type": "markdown",
      "metadata": {
        "id": "r0vqwlrAB-7n"
      },
      "source": [
        "**Q**: What can we learn from the plot above? What is the effect that occurs when we train a model on a very small train set? How does it affect the train and test accuracy?"
      ]
    },
    {
      "cell_type": "markdown",
      "metadata": {
        "id": "indUnxKkGOU2"
      },
      "source": [
        "**A**: <font color='red'>\n",
        "The plot above shows that if we learn the data with too few samples, the test will be inaccurate, unlike the training accuracy which is very high. On the other hand, from some point, adding more training samples will not improve the test accuracy that much- 25 training points gave us 0.97 test accuracy when 400 training points gave us 0.98 test accuracy. In addition, we can see that the test accuracy does not necesarilly goes lower when the training accuracy goes lower when we add more samples (starts at 50 samples).\n",
        "In conclusion, too few samples means high training accuracy but low testing accuracy, we can reach a very good testing accuracy with only a few dozens of points, and too many samples means lower training accuracy but not lower testing accuracy.\n",
        "</font>\n"
      ]
    },
    {
      "cell_type": "markdown",
      "metadata": {
        "id": "gXhXAHB23nwZ"
      },
      "source": [
        "### **8. Regularization**"
      ]
    },
    {
      "cell_type": "markdown",
      "metadata": {
        "id": "AsZ5wpkQ40d9"
      },
      "source": [
        "We wish to improve the test accuracy when training with little data. As discussed in class, overfitting can be reduced by adding a regularization term to the loss:\n",
        "\n",
        "$$\\hat{E}(w) = \\sum_{i}{\\mathrm{loss}_\\mathbf{w}(h(x),y)} + \\frac{\\lambda}{2}||\\mathbf{w}||^2$$\n",
        "\n",
        "where $\\lambda$ is the regularization coefficient (hyper parameter) and $||\\mathbf{w}||^2$ is a L2 regularization.  \n",
        "Reminder: $||\\mathbf{w}||^2 = \\sum_{i=1}^{k}{w_i^2}$"
      ]
    },
    {
      "cell_type": "markdown",
      "metadata": {
        "id": "J5EjPMpp-R5y"
      },
      "source": [
        "**Q**: What will be the new update rule when the loss includes regularization?  \n",
        "Copy an image or write in [$latex$](https://colab.research.google.com/github/bebi103a/bebi103a.github.io/blob/master/lessons/00/intro_to_latex.ipynb)"
      ]
    },
    {
      "cell_type": "markdown",
      "metadata": {
        "id": "yq7L3GG5_z7a"
      },
      "source": [
        "**A**: <font color='red'>\n",
        "![new_loss_function.png](data:image/png;base64,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)\n",
        "</font>\n"
      ]
    },
    {
      "cell_type": "markdown",
      "metadata": {
        "id": "JD14N2PdAXkk"
      },
      "source": [
        "Implement the Perceptron algorithm again but with regularization. All functions should be the same from the previous section except the ``train`` function.  \n",
        "**Important: Don't regularize the bias term ($\\mathbf{w}_0$).**"
      ]
    },
    {
      "cell_type": "code",
      "metadata": {
        "id": "ZSM_WlXMAhjK"
      },
      "source": [
        "class RegularizedPerceptron(object):\n",
        "    def __init__(self, n_features, lambda_value, iterations=10, learning_rate=0.01):\n",
        "        '''\n",
        "        The function initialized the Perceptron model.\n",
        "        n_features - number of inputs to the perceptron (excluding the bias)\n",
        "        iterations - number of iterations on the training data\n",
        "        learning_rate - learning rate, how much the weight will change during update\n",
        "        '''\n",
        "        self.iterations = iterations\n",
        "        self.learning_rate = learning_rate\n",
        "        np.random.seed(30) # set random seed, should not be altered!\n",
        "        self.weights = np.random.randn(n_features + 1)\n",
        "        self.lambda_value = lambda_value\n",
        "           \n",
        "    def predict(self, inputs):\n",
        "        '''\n",
        "        The function makes a prediction for the given input.\n",
        "        Output: -1 or 1.\n",
        "        '''\n",
        "        return np.sign(np.dot(self.weights, inputs))\n",
        "\n",
        "    def evaluate(self, inputs, labels):\n",
        "        '''\n",
        "        The function makes a predictions for the given inputs and compares \n",
        "        against the labels (ground truth). It returns the accuracy.\n",
        "        Accuracy = #correct_classification / #total\n",
        "        '''\n",
        "        correct_classification = 0\n",
        "        total = len(labels)\n",
        "        for i in range(total):\n",
        "          current_prediction = self.predict(inputs[i])\n",
        "          if(current_prediction == labels[i]):\n",
        "            correct_classification += 1  \n",
        "        return correct_classification / total\n",
        "\n",
        "    def train(self, training_inputs, train_labels, test_inputs, test_labels, verbose=True):\n",
        "        '''\n",
        "        The function train a perceptron model given training_inputs and train_labels.\n",
        "        It also evaluates the model on the train set and test set after every iteration.\n",
        "        '''\n",
        "        for i in range(self.iterations):\n",
        "            for inputs, label in zip(training_inputs, train_labels):\n",
        "                prediction = self.predict(inputs)\n",
        "                self.weights[1:] = self.weights[1:] * (1 - self.learning_rate * self.lambda_value)\n",
        "                if label * prediction <= 0:\n",
        "                  self.weights += self.learning_rate * inputs * label\n",
        "            if verbose:\n",
        "              print(f\"Iteration No.{i},\\\n",
        "               Train accuracy: {self.evaluate(training_inputs, train_labels)},\\\n",
        "                Test accuracy: {self.evaluate(test_inputs, test_labels)}\")"
      ],
      "execution_count": null,
      "outputs": []
    },
    {
      "cell_type": "markdown",
      "metadata": {
        "id": "FhOUdczBBUxR"
      },
      "source": [
        "Let's compare ```RegularizedPerceptron``` against our regular ```Perceptron``` on a trainset with 5 samples."
      ]
    },
    {
      "cell_type": "code",
      "metadata": {
        "id": "86xG6CO6CFW-"
      },
      "source": [
        "# set lambda value\n",
        "lambda_value = 0.4"
      ],
      "execution_count": null,
      "outputs": []
    },
    {
      "cell_type": "code",
      "metadata": {
        "id": "Fotbzy6KBhd2",
        "colab": {
          "base_uri": "https://localhost:8080/"
        },
        "outputId": "f1ad4f1b-4aa4-4170-f781-fb813ebbce02"
      },
      "source": [
        "train_size = 5\n",
        "\n",
        "# randomly select `train_size` samples\n",
        "idx = np.random.choice(len(X_train), size=train_size, replace=False)\n",
        "small_X_train, small_y_train = X_train[idx], y_train[idx]\n",
        "\n",
        "# create and train a perceptron model\n",
        "perceptron = Perceptron(n_features=2, iterations=100, learning_rate=0.01)\n",
        "perceptron.train(small_X_train, small_y_train, X_test, y_test, verbose=False)\n",
        "\n",
        "# evaluate the model on train and test\n",
        "print(f\"Perceptron: Train Acc: {perceptron.evaluate(small_X_train, small_y_train)},\\\n",
        " Test Acc: {perceptron.evaluate(X_test, y_test)}\")\n",
        "\n",
        "\n",
        "# create and train a regularized perceptron model\n",
        "reg_perceptron = RegularizedPerceptron(n_features=2, lambda_value = lambda_value,\n",
        "                                       iterations=100, learning_rate=0.01)\n",
        "reg_perceptron.train(small_X_train, small_y_train, X_test, y_test, verbose=False)\n",
        "\n",
        "# evaluate the model on train and test\n",
        "print(f\"RegularizedPerceptron: Train Acc: {reg_perceptron.evaluate(small_X_train, small_y_train)},\\\n",
        " Test Acc: {reg_perceptron.evaluate(X_test, y_test)}\")\n"
      ],
      "execution_count": null,
      "outputs": [
        {
          "output_type": "stream",
          "name": "stdout",
          "text": [
            "Perceptron: Train Acc: 1.0, Test Acc: 0.8\n",
            "RegularizedPerceptron: Train Acc: 1.0, Test Acc: 0.81\n"
          ]
        }
      ]
    },
    {
      "cell_type": "markdown",
      "metadata": {
        "id": "rgFYCz3jCreC"
      },
      "source": [
        "We arbitrarily chose $\\lambda = 0.4$ and increased the test accuracy by 1%. We can probably do better.    \n",
        "Do a hyperparameter search (over 10 possible values) to find a lambda value that gives the best test accuracy.  \n",
        "(Note: Usually, hyperparameter search is done on a validation set, since the data is small we do it here on the test set)."
      ]
    },
    {
      "cell_type": "code",
      "metadata": {
        "id": "_T7VdzTBDWXO",
        "colab": {
          "base_uri": "https://localhost:8080/"
        },
        "outputId": "43ab9ffb-782c-4c4a-b01e-58e3dba4b9a2"
      },
      "source": [
        "# find best lambda value\n",
        "# For lambda_value in [0.05, 0.1, 0.2, 0.4, 0.8, 1.6, 3.2, 6.4, 12.8, 25.6]: train and evaluate RegularizedPerceptron.\n",
        "# Find model with highest accuracy\n",
        "lambda_values = [0.05, 0.1, 0.2, 0.4, 0.8, 1.6, 3.2, 6.4, 12.8, 25.6]\n",
        "best_lambda = lambda_values[0]\n",
        "best_accuracy = 0\n",
        "\n",
        "for lambda_value in lambda_values:\n",
        "  current_model = RegularizedPerceptron(2, lambda_value)\n",
        "  current_model.train(X_train, y_train, X_test, y_test, False)\n",
        "  evaluation = current_model.evaluate(X_test, y_test)\n",
        "  print(f\"Lambda: {lambda_value}, Test Accuracy: {evaluation}\")\n",
        "  if evaluation > best_accuracy:\n",
        "    best_accuracy = evaluation\n",
        "    best_lambda = lambda_value\n",
        "\n",
        "best_model = RegularizedPerceptron(2, best_lambda)\n",
        "best_model.train(X_train, y_train, X_test, y_test, verbose=False)\n",
        "print(f\"\\nThe best lambda is: {best_lambda}\")\n",
        "# evaluate the model on train and test\n",
        "print(f\"Train Acc: {best_model.evaluate(small_X_train, small_y_train)},\\\n",
        " Test Acc: {best_model.evaluate(X_test, y_test)}\")\n",
        "  "
      ],
      "execution_count": null,
      "outputs": [
        {
          "output_type": "stream",
          "name": "stdout",
          "text": [
            "Lambda: 0.05, Test Accuracy: 0.98\n",
            "Lambda: 0.1, Test Accuracy: 0.97\n",
            "Lambda: 0.2, Test Accuracy: 0.98\n",
            "Lambda: 0.4, Test Accuracy: 0.98\n",
            "Lambda: 0.8, Test Accuracy: 0.98\n",
            "Lambda: 1.6, Test Accuracy: 0.98\n",
            "Lambda: 3.2, Test Accuracy: 0.99\n",
            "Lambda: 6.4, Test Accuracy: 0.98\n",
            "Lambda: 12.8, Test Accuracy: 0.97\n",
            "Lambda: 25.6, Test Accuracy: 0.58\n",
            "\n",
            "The best lambda is: 3.2\n",
            "Train Acc: 1.0, Test Acc: 0.99\n"
          ]
        }
      ]
    },
    {
      "cell_type": "markdown",
      "metadata": {
        "id": "GiFqqe_uyAz-"
      },
      "source": [
        "**Q**:What is the best $\\lambda$ you found? What is the train and test accuracy for that model?"
      ]
    },
    {
      "cell_type": "markdown",
      "metadata": {
        "id": "9gHd2LYEyPnS"
      },
      "source": [
        "**A**: <font color='red'>\n",
        "Best λ = 3.2, train accuracy: 1.0, test accuracy: 0.99\n",
        "</font>\n"
      ]
    }
  ]
}
